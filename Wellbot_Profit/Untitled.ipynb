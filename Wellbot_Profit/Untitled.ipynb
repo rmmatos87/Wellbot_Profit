{
 "cells": [
  {
   "cell_type": "code",
   "execution_count": 1,
   "metadata": {},
   "outputs": [],
   "source": [
    "import json\n",
    "from datetime import datetime, timedelta\n",
    "import pandas as pd"
   ]
  },
  {
   "cell_type": "code",
   "execution_count": null,
   "metadata": {},
   "outputs": [],
   "source": [
    "pd.Series."
   ]
  },
  {
   "cell_type": "code",
   "execution_count": 11,
   "metadata": {},
   "outputs": [],
   "source": [
    "        json_content = {\n",
    "            'P52': {\n",
    "                'RO-66': {\n",
    "                    '%s - %s' % (datetime.now().date() - timedelta(days=15),\n",
    "                                 datetime.now().date()): {\n",
    "                        'tag_stat': 'P52_STSCTRPOCOK',\n",
    "                        'tag_pdgp': 'P52_PDGP-1210009K',\n",
    "                        'pi_server': 'SESAUPI01',\n",
    "                        'tag_shut': 'P52_ZSH-1210008KEPT',\n",
    "                        'p_ref': 145.,]\n",
    "                        'ip': 20.96,\n",
    "                        'prod_test_m3d': 1158,\n",
    "                        'bsw': 31.57\n",
    "                    }\n",
    "                }\n",
    "            }\n",
    "        }\n",
    "with open('.config', 'w') as outfile:\n",
    "    json.dump(json_content, outfile)"
   ]
  },
  {
   "cell_type": "code",
   "execution_count": 13,
   "metadata": {},
   "outputs": [
    {
     "name": "stdout",
     "output_type": "stream",
     "text": [
      "{'P52': {'RO-66': {'2021-08-24 - 2021-09-08': {'tag_stat': 'P52_STSCTRPOCOK', 'tag_pdgp': 'P52_PDGP-1210009K', 'pi_server': 'SESAUPI01', 'tag_shut': 'P52_ZSH-1210008KEPT', 'p_ref': 145.0, 'ip': 20.96, 'prod_test_m3d': 1158, 'bsw': 31.57}}}}\n"
     ]
    }
   ],
   "source": [
    "with open('.config') as json_file:\n",
    "    data = json.load(json_file)\n",
    "    print(data)"
   ]
  },
  {
   "cell_type": "code",
   "execution_count": 45,
   "metadata": {},
   "outputs": [],
   "source": [
    "import streamlit as st\n",
    "st.\n"
   ]
  },
  {
   "cell_type": "code",
   "execution_count": 39,
   "metadata": {},
   "outputs": [
    {
     "data": {
      "text/plain": [
       "1"
      ]
     },
     "execution_count": 39,
     "metadata": {},
     "output_type": "execute_result"
    }
   ],
   "source": [
    "d = {1:0, 3:1}\n",
    "list(d.keys())[0]\n"
   ]
  },
  {
   "cell_type": "code",
   "execution_count": 1,
   "metadata": {},
   "outputs": [
    {
     "ename": "NameError",
     "evalue": "name 'datetime' is not defined",
     "output_type": "error",
     "traceback": [
      "\u001b[1;31m---------------------------------------------------------------------------\u001b[0m",
      "\u001b[1;31mNameError\u001b[0m                                 Traceback (most recent call last)",
      "\u001b[1;32m<ipython-input-1-6329f1d55a87>\u001b[0m in \u001b[0;36m<module>\u001b[1;34m\u001b[0m\n\u001b[1;32m----> 1\u001b[1;33m \u001b[0mdatetime\u001b[0m\u001b[1;33m.\u001b[0m\u001b[0mfromisoformat\u001b[0m\u001b[1;33m(\u001b[0m\u001b[1;34m'2021-12-01'\u001b[0m\u001b[1;33m)\u001b[0m\u001b[1;33m.\u001b[0m\u001b[0mdate\u001b[0m\u001b[1;33m(\u001b[0m\u001b[1;33m)\u001b[0m\u001b[1;33m\u001b[0m\u001b[1;33m\u001b[0m\u001b[0m\n\u001b[0m",
      "\u001b[1;31mNameError\u001b[0m: name 'datetime' is not defined"
     ]
    }
   ],
   "source": [
    "datetime.fromisoformat('2021-12-01').date()"
   ]
  },
  {
   "cell_type": "code",
   "execution_count": 47,
   "metadata": {},
   "outputs": [
    {
     "name": "stdout",
     "output_type": "stream",
     "text": [
      "The autoreload extension is already loaded. To reload it, use:\n",
      "  %reload_ext autoreload\n"
     ]
    }
   ],
   "source": [
    "%load_ext autoreload\n",
    "%autoreload 2\n",
    "\n",
    "from Interface import Config\n"
   ]
  },
  {
   "cell_type": "code",
   "execution_count": 55,
   "metadata": {
    "scrolled": true
   },
   "outputs": [
    {
     "data": {
      "text/plain": [
       "{'tag_stat': 'P52_STSCTRPOCOK',\n",
       " 'tag_pdgp': 'P52_PDGP-1210009K',\n",
       " 'pi_server': 'SESAUPI01',\n",
       " 'shut_opt': {'tag': 'P52_ZSH-1210008KEPT', 'compare': 1, 'val': 0},\n",
       " 'p_ref': 145.0,\n",
       " 'ip': 20.96,\n",
       " 'prod_test_m3d': 1158.0,\n",
       " 'bsw': 31.57,\n",
       " 'sample_sec': 60}"
      ]
     },
     "execution_count": 55,
     "metadata": {},
     "output_type": "execute_result"
    }
   ],
   "source": [
    "config = Config()\n",
    "config.actual"
   ]
  },
  {
   "cell_type": "code",
   "execution_count": 59,
   "metadata": {},
   "outputs": [],
   "source": [
    "import tkinter as tk\n",
    "import os\n",
    "\"\"\"\n",
    "Configure proxy to get data from internet.\n",
    "\n",
    "More in:\n",
    "    https://realpython.com/python-gui-tkinter/\n",
    "\n",
    "Returns\n",
    "-------\n",
    "dict\n",
    "    Proxy solving tags.\n",
    "\n",
    "\"\"\"\n",
    "def close():\n",
    "    app.destroy()\n",
    "\n",
    "user = os.getlogin()\n",
    "\n",
    "\"\"\"\n",
    "Tk(screenName=None, baseName=None,\n",
    "   className='Tk', useTk=1, sync=0, use=None)\n",
    "\"\"\"\n",
    "app = tk.Tk()\n",
    "app.title('Login')\n",
    "\"\"\"\n",
    "Frame(master=None, cnf={}, **kw):\n",
    "    background, bd, bg, borderwidth, class,\n",
    "    colormap, container, cursor, height, highlightbackground,\n",
    "    highlightcolor, highlightthickness, relief, takefocus, visual,\n",
    "    width.\"\"\"\n",
    "f1 = tk.Frame(background='white', height='10m', width='10m')\n",
    "\n",
    "\"\"\"\n",
    "StringVar(master=None, value=None, name=None)\n",
    "\"\"\"\n",
    "password = tk.StringVar(master=f1)\n",
    "\"\"\"\n",
    "Label(master=None, cnf={}, **kw):\n",
    "    activebackground, activeforeground, anchor,\n",
    "    background, bitmap, borderwidth, cursor,\n",
    "    disabledforeground, font, foreground,\n",
    "    highlightbackground, highlightcolor,\n",
    "    highlightthickness, image, justify,\n",
    "    padx, pady, relief, takefocus, text,\n",
    "    textvariable, underline, wraplength\n",
    "\"\"\"\n",
    "label0 = tk.Label(master=f1,\n",
    "                  text='Para configuração do proxy, é necessário coletar' +\n",
    "                  'a senha do usuário.\\n Tenha certeza de que está ' +\n",
    "                  'conectado ao VPN/Pulse',\n",
    "                  bg='white',\n",
    "                  fg='red',\n",
    "                  pady=3)\n",
    "\"\"\"\n",
    "pack_configure(self, cnf={}, **kw):\n",
    "    after = widget - pack it after you have packed widget\n",
    "    anchor = NSEW (or subset) - position widget according 2 given direction\n",
    "    before = widget - pack it before you will pack widget\n",
    "    expand = bool - expand widget if parent size grows\n",
    "    fill = [None, 'x', 'y', 'both'] - fill widget if widget grows\n",
    "    in = master - use master to contain this widget\n",
    "    in_ = master - see 'in' option description\n",
    "    ipadx = amount - add internal padding in x direction\n",
    "    ipady = amount - add internal padding in y direction\n",
    "    padx = amount - add padding in x direction\n",
    "    pady = amount - add padding in y direction\n",
    "    side = TOP or BOTTOM or LEFT or RIGHT -  where to add this widget.\n",
    "\"\"\"\n",
    "label0.pack(expand=True, fill= 'both')\n",
    "\n",
    "label1 = tk.Label(master=f1, text=f'Entre com a senha do usuário {user}:')\n",
    "label1.pack(expand=True, fill='both')\n",
    "\n",
    "passEntry = tk.Entry(master=f1, textvariable=password, show='*')\n",
    "passEntry.pack(expand=True, fill= 'both')\n",
    "\n",
    "f1.pack(expand=True, fill= 'both')\n",
    "\n",
    "submit = tk.Button(app, text='Ok', command=close)\n",
    "submit.pack()\n",
    "\n",
    "app.focus_force()\n",
    "app.mainloop()\n",
    "\n",
    "out = password.get()\n",
    "\n",
    "url = 'inet-sys.petrobras.com.br:804'\n",
    "\n",
    "os.environ[\"HTTP_PROXY\"] = f\"http://{user}:{out}@{url}\"\n",
    "os.environ[\"HTTPS_PROXY\"] = f\"https://{user}:{out}@{url}\""
   ]
  },
  {
   "cell_type": "code",
   "execution_count": 60,
   "metadata": {},
   "outputs": [
    {
     "data": {
      "text/plain": [
       "<Response [200]>"
      ]
     },
     "execution_count": 60,
     "metadata": {},
     "output_type": "execute_result"
    }
   ],
   "source": [
    "st.table()"
   ]
  }
 ],
 "metadata": {
  "kernelspec": {
   "display_name": "Python 3",
   "language": "python",
   "name": "python3"
  },
  "language_info": {
   "codemirror_mode": {
    "name": "ipython",
    "version": 3
   },
   "file_extension": ".py",
   "mimetype": "text/x-python",
   "name": "python",
   "nbconvert_exporter": "python",
   "pygments_lexer": "ipython3",
   "version": "3.8.5"
  }
 },
 "nbformat": 4,
 "nbformat_minor": 4
}
